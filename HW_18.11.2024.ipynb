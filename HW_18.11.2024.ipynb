{
 "cells": [
  {
   "cell_type": "markdown",
   "id": "3977d287-5eeb-474f-965a-a10bc841d15d",
   "metadata": {},
   "source": [
    "<div style=\"background-color: #e0f7e0; padding: 15px; border-radius: 5px;\">\n",
    "    <h1 style=\"color: Darkgreen;\">Home Work - Pandas<br><br>\n",
    "        \n",
    "        18.11.2024\n",
    "</div>"
   ]
  },
  {
   "cell_type": "code",
   "execution_count": 13,
   "id": "d671673f-bb22-4010-aa53-4288a6ba07f5",
   "metadata": {},
   "outputs": [],
   "source": [
    "import numpy as np\n",
    "import pandas as pd"
   ]
  },
  {
   "cell_type": "code",
   "execution_count": 14,
   "id": "33ed367c-483f-445e-9754-1780cad0fdb5",
   "metadata": {},
   "outputs": [
    {
     "data": {
      "text/html": [
       "<div>\n",
       "<style scoped>\n",
       "    .dataframe tbody tr th:only-of-type {\n",
       "        vertical-align: middle;\n",
       "    }\n",
       "\n",
       "    .dataframe tbody tr th {\n",
       "        vertical-align: top;\n",
       "    }\n",
       "\n",
       "    .dataframe thead th {\n",
       "        text-align: right;\n",
       "    }\n",
       "</style>\n",
       "<table border=\"1\" class=\"dataframe\">\n",
       "  <thead>\n",
       "    <tr style=\"text-align: right;\">\n",
       "      <th></th>\n",
       "      <th>Customer Name</th>\n",
       "      <th>Phone Number</th>\n",
       "      <th>Talked Minutes</th>\n",
       "      <th>Internet Minutes</th>\n",
       "      <th>Start Subscription</th>\n",
       "    </tr>\n",
       "  </thead>\n",
       "  <tbody>\n",
       "    <tr>\n",
       "      <th>0</th>\n",
       "      <td>Cynthia Wong MD</td>\n",
       "      <td>050-5380527</td>\n",
       "      <td>231</td>\n",
       "      <td>944</td>\n",
       "      <td>14/09/2022</td>\n",
       "    </tr>\n",
       "    <tr>\n",
       "      <th>1</th>\n",
       "      <td>Chad Reed</td>\n",
       "      <td>053-5250617</td>\n",
       "      <td>166</td>\n",
       "      <td>217</td>\n",
       "      <td>28/11/2022</td>\n",
       "    </tr>\n",
       "    <tr>\n",
       "      <th>2</th>\n",
       "      <td>James Murphy</td>\n",
       "      <td>051-7292166</td>\n",
       "      <td>483</td>\n",
       "      <td>437</td>\n",
       "      <td>06/04/2021</td>\n",
       "    </tr>\n",
       "    <tr>\n",
       "      <th>3</th>\n",
       "      <td>John Dean</td>\n",
       "      <td>054-2952436</td>\n",
       "      <td>435</td>\n",
       "      <td>817</td>\n",
       "      <td>06/01/2021</td>\n",
       "    </tr>\n",
       "    <tr>\n",
       "      <th>4</th>\n",
       "      <td>Nancy Bright</td>\n",
       "      <td>052-8402824</td>\n",
       "      <td>208</td>\n",
       "      <td>770</td>\n",
       "      <td>10/10/2022</td>\n",
       "    </tr>\n",
       "  </tbody>\n",
       "</table>\n",
       "</div>"
      ],
      "text/plain": [
       "     Customer Name Phone Number  Talked Minutes  Internet Minutes  \\\n",
       "0  Cynthia Wong MD  050-5380527             231               944   \n",
       "1        Chad Reed  053-5250617             166               217   \n",
       "2     James Murphy  051-7292166             483               437   \n",
       "3        John Dean  054-2952436             435               817   \n",
       "4     Nancy Bright  052-8402824             208               770   \n",
       "\n",
       "  Start Subscription  \n",
       "0         14/09/2022  \n",
       "1         28/11/2022  \n",
       "2         06/04/2021  \n",
       "3         06/01/2021  \n",
       "4         10/10/2022  "
      ]
     },
     "execution_count": 14,
     "metadata": {},
     "output_type": "execute_result"
    }
   ],
   "source": [
    "file_path = r'C:\\users\\HP\\mobile.csv'  \n",
    "df = pd.read_csv(file_path)\n",
    "df.head()"
   ]
  },
  {
   "cell_type": "markdown",
   "id": "beb2956e-aa9b-40bf-bf34-16a161773ab5",
   "metadata": {},
   "source": [
    "<div style=\"background-color: #e0f7e0; padding: 15px; border-radius: 5px;\">\n",
    "    <h3 style=\"color: Darkgreen;\">1. <br><br>Create a column for the first name from the first word of the subscriber's name, using the apply command:\n",
    "</h3>\n",
    "</div>"
   ]
  },
  {
   "cell_type": "code",
   "execution_count": 18,
   "id": "01b02291-8912-46f2-9894-ecc5591b0a9c",
   "metadata": {},
   "outputs": [
    {
     "name": "stdout",
     "output_type": "stream",
     "text": [
      "     Customer Name Phone Number  Talked Minutes  Internet Minutes  \\\n",
      "0  Cynthia Wong MD  050-5380527             231               944   \n",
      "1        Chad Reed  053-5250617             166               217   \n",
      "2     James Murphy  051-7292166             483               437   \n",
      "3        John Dean  054-2952436             435               817   \n",
      "4     Nancy Bright  052-8402824             208               770   \n",
      "\n",
      "  Start Subscription First_Name  \n",
      "0         14/09/2022    Cynthia  \n",
      "1         28/11/2022       Chad  \n",
      "2         06/04/2021      James  \n",
      "3         06/01/2021       John  \n",
      "4         10/10/2022      Nancy  \n"
     ]
    }
   ],
   "source": [
    "df['First_Name'] = df['Customer Name'].apply(lambda x: x.split()[0])\n",
    "\n",
    "print(df.head());\n"
   ]
  },
  {
   "cell_type": "markdown",
   "id": "59bbec04-76cc-4836-9a8d-2e16a079a139",
   "metadata": {},
   "source": [
    "<div style=\"background-color: #e0f7e0; padding: 15px; border-radius: 5px;\">\n",
    "    <h3 style=\"color: Darkgreen;\">2. <br><br>Create a column for the mobile company based on the initial digits of the phone number:\n",
    "050 = Pelephone, 051 = Golan, 052 = Cellcom, 053 = Motorola\n",
    "(The company name will appear in English, for example: Pelephone = Pelephone):\n",
    "</h3>\n",
    "</div>"
   ]
  },
  {
   "cell_type": "code",
   "execution_count": 22,
   "id": "5e07834d-3482-4c06-974a-987127389dd8",
   "metadata": {},
   "outputs": [
    {
     "name": "stdout",
     "output_type": "stream",
     "text": [
      "              Name        Phone  Value1  Value2        Date Mobile_Company\n",
      "0  Cynthia Wong MD  050-5380527     231     944  14/09/2022      Pelephone\n",
      "1        Chad Reed  051-5250617     166     217  28/11/2022          Golan\n",
      "2     James Murphy  052-7292166     483     437  06/04/2021        Cellcom\n",
      "3        John Dean  053-2952436     435     817  06/01/2021       Motorola\n",
      "4     Nancy Bright  050-8402824     208     770  10/10/2022      Pelephone\n"
     ]
    }
   ],
   "source": [
    "# Sample DataFrame (assuming 'Phone' column exists in the DataFrame)\n",
    "df = pd.DataFrame({\n",
    "    'Name': ['Cynthia Wong MD', 'Chad Reed', 'James Murphy', 'John Dean', 'Nancy Bright'],\n",
    "    'Phone': ['050-5380527', '051-5250617', '052-7292166', '053-2952436', '050-8402824'],\n",
    "    'Value1': [231, 166, 483, 435, 208],\n",
    "    'Value2': [944, 217, 437, 817, 770],\n",
    "    'Date': ['14/09/2022', '28/11/2022', '06/04/2021', '06/01/2021', '10/10/2022']\n",
    "});\n",
    "\n",
    "# Function to map phone prefix to the mobile company name\n",
    "def get_mobile_company(phone):\n",
    "    prefix = phone.split('-')[0]  # Extract the prefix (before the first dash)\n",
    "    \n",
    "    if prefix == '050':\n",
    "        return 'Pelephone'\n",
    "    elif prefix == '051':\n",
    "        return 'Golan'\n",
    "    elif prefix == '052':\n",
    "        return 'Cellcom'\n",
    "    elif prefix == '053':\n",
    "        return 'Motorola'\n",
    "    else:\n",
    "        return 'Unknown'  # For any other prefixes\n",
    "\n",
    "# Apply the function to create a new column for the mobile company\n",
    "df['Mobile_Company'] = df['Phone'].apply(get_mobile_company)\n",
    "\n",
    "# Display the updated DataFrame\n",
    "print(df)\n"
   ]
  },
  {
   "cell_type": "markdown",
   "id": "49ec95c5-a422-436f-a60a-ec193f811df7",
   "metadata": {},
   "source": [
    "<div style=\"border: 2px solid Darkred; padding: 15px; background-color: #f9f9f9;\">\n",
    "    <h4 style=\"color: Darkgreen;\">\n",
    "        <strong>\n",
    "            3. Use the column you created in the previous section and calculate: \n",
    "        </strong>\n",
    "        <br><br> <!-- This adds an empty line between the two parts -->\n",
    "        a. How many subscribers are there for each mobile company?<br>\n",
    "b. What are the names of the different mobile companies?<br>\n",
    "c. How many different mobile companies are there?<br>\n",
    "</div>"
   ]
  },
  {
   "cell_type": "code",
   "execution_count": 25,
   "id": "13990541-3f8c-4058-84b3-4afe98894a72",
   "metadata": {},
   "outputs": [
    {
     "name": "stdout",
     "output_type": "stream",
     "text": [
      "a. Number of subscribers per company:\n",
      "Mobile_Company\n",
      "Pelephone    2\n",
      "Golan        1\n",
      "Cellcom      1\n",
      "Motorola     1\n",
      "Name: count, dtype: int64\n",
      "\n",
      "b. Different mobile company names:\n",
      "['Pelephone' 'Golan' 'Cellcom' 'Motorola']\n",
      "\n",
      "c. Number of different mobile companies:\n",
      "4\n"
     ]
    }
   ],
   "source": [
    "# Sample DataFrame (using the previous example)\n",
    "df = pd.DataFrame({\n",
    "    'Name': ['Cynthia Wong MD', 'Chad Reed', 'James Murphy', 'John Dean', 'Nancy Bright'],\n",
    "    'Phone': ['050-5380527', '051-5250617', '052-7292166', '053-2952436', '050-8402824'],\n",
    "    'Value1': [231, 166, 483, 435, 208],\n",
    "    'Value2': [944, 217, 437, 817, 770],\n",
    "    'Date': ['14/09/2022', '28/11/2022', '06/04/2021', '06/01/2021', '10/10/2022']\n",
    "});\n",
    "\n",
    "# Assuming 'Mobile_Company' column already exists, as we created it in the previous part\n",
    "df['Mobile_Company'] = df['Phone'].apply(get_mobile_company);\n",
    "\n",
    "# a. How many subscribers are there for each mobile company?\n",
    "subscribers_per_company = df['Mobile_Company'].value_counts();\n",
    "\n",
    "# b. What are the names of the different mobile companies?\n",
    "unique_companies = df['Mobile_Company'].unique();\n",
    "\n",
    "# c. How many different mobile companies are there?\n",
    "num_unique_companies = len(unique_companies);\n",
    "\n",
    "# Output the results\n",
    "print(\"a. Number of subscribers per company:\");\n",
    "print(subscribers_per_company)\n",
    "\n",
    "print(\"\\nb. Different mobile company names:\");\n",
    "print(unique_companies)\n",
    "\n",
    "print(\"\\nc. Number of different mobile companies:\");\n",
    "print(num_unique_companies);"
   ]
  },
  {
   "cell_type": "markdown",
   "id": "a6c3bed2-a214-4a6d-b213-ccff94c521c5",
   "metadata": {},
   "source": [
    "<div style=\"border: 2px solid Darkred; padding: 15px; background-color: #f9f9f9;\">\n",
    "    <h4 style=\"color: Darkgreen;\">\n",
    "        <strong>\n",
    "            4. <br>Create a column that indicates the type of user: If the talk time is greater than the browsing time, the value should be 'talker'; otherwise, the value should be 'surfer'. Solve this in two ways: \n",
    "        </strong>\n",
    "        <br><br> <!-- This adds an empty line between the two parts -->\n",
    "        a. Using apply with a lambda function <br>\n",
    "b. Vectorized approach\"<br>\n",
    "</div>"
   ]
  },
  {
   "cell_type": "code",
   "execution_count": 26,
   "id": "dc1065e7-d2f9-4eda-bbf0-ecc33ee72808",
   "metadata": {},
   "outputs": [
    {
     "name": "stdout",
     "output_type": "stream",
     "text": [
      "              Name        Phone  Value1  Value2        Date User_Type\n",
      "0  Cynthia Wong MD  050-5380527     231     944  14/09/2022    surfer\n",
      "1        Chad Reed  051-5250617     166     217  28/11/2022    surfer\n",
      "2     James Murphy  052-7292166     483     437  06/04/2021    talker\n",
      "3        John Dean  053-2952436     435     817  06/01/2021    surfer\n",
      "4     Nancy Bright  050-8402824     208     770  10/10/2022    surfer\n"
     ]
    }
   ],
   "source": [
    "df = pd.DataFrame({\n",
    "    'Name': ['Cynthia Wong MD', 'Chad Reed', 'James Murphy', 'John Dean', 'Nancy Bright'],\n",
    "    'Phone': ['050-5380527', '051-5250617', '052-7292166', '053-2952436', '050-8402824'],\n",
    "    'Value1': [231, 166, 483, 435, 208],  # Talk time\n",
    "    'Value2': [944, 217, 437, 817, 770],  # Browsing time\n",
    "    'Date': ['14/09/2022', '28/11/2022', '06/04/2021', '06/01/2021', '10/10/2022']\n",
    "})\n",
    "\n",
    "# a. Using apply and lambda to create 'User_Type' column\n",
    "df['User_Type'] = df.apply(lambda row: 'talker' if row['Value1'] > row['Value2'] else 'surfer', axis=1)\n",
    "\n",
    "# Display the updated DataFrame\n",
    "print(df);\n",
    "#_______________________________________________________________________"
   ]
  },
  {
   "cell_type": "code",
   "execution_count": 27,
   "id": "be4465d6-e4d1-433c-b224-1758634f19b8",
   "metadata": {},
   "outputs": [
    {
     "name": "stdout",
     "output_type": "stream",
     "text": [
      "              Name        Phone  Value1  Value2        Date User_Type\n",
      "0  Cynthia Wong MD  050-5380527     231     944  14/09/2022    surfer\n",
      "1        Chad Reed  051-5250617     166     217  28/11/2022    surfer\n",
      "2     James Murphy  052-7292166     483     437  06/04/2021    talker\n",
      "3        John Dean  053-2952436     435     817  06/01/2021    surfer\n",
      "4     Nancy Bright  050-8402824     208     770  10/10/2022    surfer\n"
     ]
    }
   ],
   "source": [
    "# b. Using a vectorized approach to create 'User_Type' column\n",
    "df['User_Type'] = ['talker' if x > y else 'surfer' for x, y in zip(df['Value1'], df['Value2'])]\n",
    "\n",
    "# Display the updated DataFrame\n",
    "print(df);\n",
    "#________________________________________________________________________"
   ]
  },
  {
   "cell_type": "markdown",
   "id": "e2d8278f-065c-4644-9fda-5afebcda7a73",
   "metadata": {},
   "source": [
    "<div style=\"border: 2px solid Darkred; padding: 15px; background-color: #f9f9f9;\">\n",
    "    <h4 style=\"color: Darkgreen;\">\n",
    "        <strong>\n",
    "            5. <br><br>Sort the subscribers by talk time from smallest to largest.\n",
    "        </strong>\n",
    "</div>"
   ]
  },
  {
   "cell_type": "code",
   "execution_count": 28,
   "id": "da8dfb77-83f4-4d53-af55-f4fe67d2e028",
   "metadata": {},
   "outputs": [
    {
     "name": "stdout",
     "output_type": "stream",
     "text": [
      "              Name        Phone  Value1  Value2        Date\n",
      "1        Chad Reed  051-5250617     166     217  28/11/2022\n",
      "4     Nancy Bright  050-8402824     208     770  10/10/2022\n",
      "0  Cynthia Wong MD  050-5380527     231     944  14/09/2022\n",
      "3        John Dean  053-2952436     435     817  06/01/2021\n",
      "2     James Murphy  052-7292166     483     437  06/04/2021\n"
     ]
    }
   ],
   "source": [
    "df = pd.DataFrame({\n",
    "    'Name': ['Cynthia Wong MD', 'Chad Reed', 'James Murphy', 'John Dean', 'Nancy Bright'],\n",
    "    'Phone': ['050-5380527', '051-5250617', '052-7292166', '053-2952436', '050-8402824'],\n",
    "    'Value1': [231, 166, 483, 435, 208],  # Talk time\n",
    "    'Value2': [944, 217, 437, 817, 770],  # Browsing time\n",
    "    'Date': ['14/09/2022', '28/11/2022', '06/04/2021', '06/01/2021', '10/10/2022']\n",
    "});\n",
    "\n",
    "# Sorting the DataFrame by 'Value1' (Talk time) from smallest to largest\n",
    "df_sorted = df.sort_values(by='Value1', ascending=True);\n",
    "print(df_sorted);\n",
    "#_____________________________________________________________________"
   ]
  },
  {
   "cell_type": "markdown",
   "id": "35723eb0-7d08-4c9f-a7be-3e74f67dd223",
   "metadata": {},
   "source": [
    "<div style=\"border: 2px solid Darkred; padding: 15px; background-color: #f9f9f9;\">\n",
    "    <h4 style=\"color: Darkgreen;\">\n",
    "        <strong>\n",
    "            6. <br><br>Sort the subscribers by talk time + browsing time:\n",
    "        </strong>\n",
    "</div>"
   ]
  },
  {
   "cell_type": "code",
   "execution_count": 30,
   "id": "9430d409-c528-4acf-a083-b6287dee131e",
   "metadata": {},
   "outputs": [
    {
     "name": "stdout",
     "output_type": "stream",
     "text": [
      "              Name        Phone  Value1  Value2        Date  Total_Time\n",
      "1        Chad Reed  051-5250617     166     217  28/11/2022         383\n",
      "2     James Murphy  052-7292166     483     437  06/04/2021         920\n",
      "4     Nancy Bright  050-8402824     208     770  10/10/2022         978\n",
      "0  Cynthia Wong MD  050-5380527     231     944  14/09/2022        1175\n",
      "3        John Dean  053-2952436     435     817  06/01/2021        1252\n"
     ]
    }
   ],
   "source": [
    "# Creating a new column for the sum of talk time and browsing time\n",
    "df['Total_Time'] = df['Value1'] + df['Value2']\n",
    "\n",
    "# Sort the DataFrame by 'Total_Time' from smallest to largest\n",
    "df_sorted_by_total_time = df.sort_values(by='Total_Time', ascending=True);\n",
    "print(df_sorted_by_total_time);\n",
    "#_________________________________________________________________________"
   ]
  },
  {
   "cell_type": "markdown",
   "id": "4a2246f2-f36b-4dbc-aaa1-9f142e8f97fa",
   "metadata": {},
   "source": [
    "<div style=\"border: 2px solid Darkred; padding: 15px; background-color: #f9f9f9;\">\n",
    "    <h4 style=\"color: Darkgreen;\">\n",
    "        <strong>\n",
    "            7. <br><br>Print the top 5 talkers (with the largest talk time + browsing time):\n",
    "        </strong>\n",
    "</div>"
   ]
  },
  {
   "cell_type": "code",
   "execution_count": 31,
   "id": "389b08ce-8a62-44e6-9615-2ac7b2b86048",
   "metadata": {},
   "outputs": [
    {
     "name": "stdout",
     "output_type": "stream",
     "text": [
      "              Name        Phone  Value1  Value2        Date  Total_Time\n",
      "1        Chad Reed  051-5250617     166     217  28/11/2022         383\n",
      "2     James Murphy  052-7292166     483     437  06/04/2021         920\n",
      "4     Nancy Bright  050-8402824     208     770  10/10/2022         978\n",
      "0  Cynthia Wong MD  050-5380527     231     944  14/09/2022        1175\n",
      "3        John Dean  053-2952436     435     817  06/01/2021        1252\n"
     ]
    }
   ],
   "source": [
    "top_5_talkers = df_sorted_by_total_time.tail(5);\n",
    "print(top_5_talkers);\n",
    "#________________________________________________"
   ]
  },
  {
   "cell_type": "markdown",
   "id": "ab51ae68-1e17-449a-8000-8366e9825efc",
   "metadata": {},
   "source": [
    "<div style=\"border: 2px solid Darkred; padding: 15px; background-color: #f9f9f9;\">\n",
    "    <h4 style=\"color: Darkgreen;\">\n",
    "        <strong>\n",
    "            8. <br><br>Print the 3 subscribers who browse the least:\n",
    "        </strong>\n",
    "</div>"
   ]
  },
  {
   "cell_type": "code",
   "execution_count": 32,
   "id": "95967c73-2754-4698-a65d-fa950b9823da",
   "metadata": {},
   "outputs": [
    {
     "name": "stdout",
     "output_type": "stream",
     "text": [
      "           Name        Phone  Value1  Value2        Date  Total_Time\n",
      "1     Chad Reed  051-5250617     166     217  28/11/2022         383\n",
      "2  James Murphy  052-7292166     483     437  06/04/2021         920\n",
      "4  Nancy Bright  050-8402824     208     770  10/10/2022         978\n"
     ]
    }
   ],
   "source": [
    "# Sort by browsing time (Value2) in ascending order\n",
    "df_sorted_by_browsing = df.sort_values(by='Value2', ascending=True);\n",
    "\n",
    "# Print the 3 subscribers who browse the least\n",
    "top_3_browsing_least = df_sorted_by_browsing.head(3);\n",
    "print(top_3_browsing_least);\n",
    "#_____________________________________________________"
   ]
  },
  {
   "cell_type": "markdown",
   "id": "853197fb-d8d5-45ed-86c7-4b99fae64be0",
   "metadata": {},
   "source": [
    "<div style=\"border: 2px solid Darkred; padding: 15px; background-color: #f9f9f9;\">\n",
    "    <h4 style=\"color: Darkgreen;\">\n",
    "        <strong>\n",
    "            9. <br><br>Print and remove duplicated records:\n",
    "        </strong>\n",
    "        <br><br> \n",
    "        a. Print the duplicated records <br>\n",
    "b. Remove the duplicated records\n",
    "<br>\n",
    "</div>"
   ]
  },
  {
   "cell_type": "code",
   "execution_count": 33,
   "id": "22914fa0-ce14-4a26-9dce-5c876aa742c0",
   "metadata": {},
   "outputs": [
    {
     "name": "stdout",
     "output_type": "stream",
     "text": [
      "Empty DataFrame\n",
      "Columns: [Name, Phone, Value1, Value2, Date, Total_Time]\n",
      "Index: []\n"
     ]
    }
   ],
   "source": [
    "# Print the duplicated records\n",
    "duplicated_records = df[df.duplicated()];\n",
    "print(duplicated_records);\n",
    "#________________________________________"
   ]
  },
  {
   "cell_type": "code",
   "execution_count": 34,
   "id": "007f8a45-7dea-42bc-b386-53a7b36c7bab",
   "metadata": {},
   "outputs": [
    {
     "name": "stdout",
     "output_type": "stream",
     "text": [
      "              Name        Phone  Value1  Value2        Date  Total_Time\n",
      "0  Cynthia Wong MD  050-5380527     231     944  14/09/2022        1175\n",
      "1        Chad Reed  051-5250617     166     217  28/11/2022         383\n",
      "2     James Murphy  052-7292166     483     437  06/04/2021         920\n",
      "3        John Dean  053-2952436     435     817  06/01/2021        1252\n",
      "4     Nancy Bright  050-8402824     208     770  10/10/2022         978\n"
     ]
    }
   ],
   "source": [
    "# Remove the duplicated records\n",
    "df_no_duplicates = df.drop_duplicates();\n",
    "print(df_no_duplicates);\n",
    "#_______________________________________"
   ]
  },
  {
   "cell_type": "code",
   "execution_count": null,
   "id": "5df76e73-5278-4925-b1be-6733c72ecf84",
   "metadata": {},
   "outputs": [],
   "source": []
  },
  {
   "cell_type": "markdown",
   "id": "5598d230-dd67-4030-9f81-12a4bedb3103",
   "metadata": {},
   "source": [
    "<div style=\"border: 2px solid Darkred; padding: 15px; background-color: #f9f9f9;\">\n",
    "    <h4 style=\"color: Darkgreen;\">\n",
    "        <strong>\n",
    "            10. <br><br>Randomly select 3 subscribers and print their name and phone number:\n",
    "        </strong>\n",
    "</div>"
   ]
  },
  {
   "cell_type": "code",
   "execution_count": 35,
   "id": "645cc7c6-15dc-488c-a60d-b387c74cbe81",
   "metadata": {},
   "outputs": [
    {
     "name": "stdout",
     "output_type": "stream",
     "text": [
      "           Name        Phone\n",
      "2  James Murphy  052-7292166\n",
      "4  Nancy Bright  050-8402824\n",
      "1     Chad Reed  051-5250617\n"
     ]
    }
   ],
   "source": [
    "# Randomly select 3 subscribers\n",
    "random_subscribers = df.sample(n=3);\n",
    "print(random_subscribers[['Name', 'Phone']]);\n",
    "#_______________________________________________\n"
   ]
  }
 ],
 "metadata": {
  "kernelspec": {
   "display_name": "Python 3 (ipykernel)",
   "language": "python",
   "name": "python3"
  },
  "language_info": {
   "codemirror_mode": {
    "name": "ipython",
    "version": 3
   },
   "file_extension": ".py",
   "mimetype": "text/x-python",
   "name": "python",
   "nbconvert_exporter": "python",
   "pygments_lexer": "ipython3",
   "version": "3.12.7"
  }
 },
 "nbformat": 4,
 "nbformat_minor": 5
}
